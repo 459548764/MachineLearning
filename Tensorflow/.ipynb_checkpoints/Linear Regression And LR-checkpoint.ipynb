{
 "cells": [
  {
   "cell_type": "markdown",
   "metadata": {
    "deletable": true,
    "editable": true
   },
   "source": [
    "Linear Regression"
   ]
  },
  {
   "cell_type": "code",
   "execution_count": 1,
   "metadata": {
    "collapsed": false,
    "deletable": true,
    "editable": true,
    "scrolled": false
   },
   "outputs": [
    {
     "name": "stdout",
     "output_type": "stream",
     "text": [
      "0 [ 0.12464377] [ 0.38197017]\n",
      "20 [ 0.09974997] [ 0.29970267]\n",
      "40 [ 0.10235503] [ 0.29836023]\n",
      "60 [ 0.10284578] [ 0.29810733]\n",
      "80 [ 0.10293824] [ 0.2980597]\n",
      "100 [ 0.10295565] [ 0.29805073]\n",
      "120 [ 0.10295893] [ 0.29804903]\n",
      "140 [ 0.10295957] [ 0.2980487]\n",
      "160 [ 0.10295963] [ 0.29804868]\n",
      "180 [ 0.10295963] [ 0.29804868]\n",
      "200 [ 0.10295963] [ 0.29804868]\n"
     ]
    }
   ],
   "source": [
    "%matplotlib inline\n",
    "import tensorflow as tf\n",
    "import numpy as np\n",
    "from matplotlib import pyplot as plt\n",
    "\n",
    "# Create 100 phony x, y data points in NumPy, y = x * 0.1 + 0.3\n",
    "x_data = np.random.rand(100).astype(\"float32\")\n",
    "y_data = x_data * 0.1 + 0.3 + np.random.randn(len(x_data))*0.01\n",
    "\n",
    "# Try to find values for W and b that compute y_data = W * x_data + b\n",
    "# (We know that W should be 0.1 and b 0.3, but Tensorflow will\n",
    "# figure that out for us.)\n",
    "with tf.device('/gpu:0'):\n",
    "    W = tf.Variable(tf.random_uniform([1],-1.0,1.0))\n",
    "    b = tf.Variable(tf.zeros([1]))\n",
    "    y = tf.mul(W, x_data) + b\n",
    "    # Minimize the mean squared errors.\n",
    "    loss = tf.reduce_mean(tf.square(y-y_data))\n",
    "    optimizer = tf.train.GradientDescentOptimizer(0.5)\n",
    "    train = optimizer.minimize(loss)\n",
    "\n",
    "# Before starting, initialize the variables. We will 'run' this first\n",
    "# init = tf.initialize_all_variables()\n",
    "init = tf.global_variables_initializer ()\n",
    "\n",
    "# Launch the graph.\n",
    "sess = tf.Session()\n",
    "sess.run(init)\n",
    "# Fit the line.\n",
    "for step in range(201):\n",
    "    sess.run(train)\n",
    "    if step % 20 == 0:\n",
    "        print(step, sess.run(W), sess.run(b))\n"
   ]
  },
  {
   "cell_type": "code",
   "execution_count": 2,
   "metadata": {
    "collapsed": false,
    "deletable": true,
    "editable": true
   },
   "outputs": [
    {
     "data": {
      "image/png": "[encoded data removed]",
      "text/plain": [
       "<matplotlib.figure.Figure at 0x4caab38>"
      ]
     },
     "metadata": {},
     "output_type": "display_data"
    }
   ],
   "source": [
    "import seaborn as sns\n",
    "plt.scatter(x_data,y_data)\n",
    "plt.scatter(x_data,sess.run(W)*x_data+sess.run(b),c='r')\n",
    "plt.title\n",
    "plt.show()"
   ]
  },
  {
   "cell_type": "markdown",
   "metadata": {
    "deletable": true,
    "editable": true
   },
   "source": [
    "Logistic Regression"
   ]
  },
  {
   "cell_type": "code",
   "execution_count": 14,
   "metadata": {
    "collapsed": false,
    "deletable": true,
    "editable": true
   },
   "outputs": [
    {
     "name": "stdout",
     "output_type": "stream",
     "text": [
      "(1000,) (1000, 4)\n",
      "(10,) (10, 4)\n"
     ]
    }
   ],
   "source": [
    "import tensorflow as tf\n",
    "import numpy as np\n",
    "import sys,time\n",
    "X_data = np.linspace(-100, 100, 1000)\n",
    "X_test = np.linspace(-20, 80, 10)\n",
    "y_data = np.zeros([X_data.shape[0],4])\n",
    "y_test = np.zeros([X_test.shape[0],4])\n",
    "print(X_data.shape, y_data.shape)\n",
    "print(X_test.shape, y_test.shape)\n",
    "ind = 0\n",
    "for x in X_data:\n",
    "#     if x<0:\n",
    "#         y_data[ind,0]=1\n",
    "#     else:\n",
    "#         y_data[ind,1]=1    \n",
    "    if x < -50:\n",
    "        y_data[ind,0]=1\n",
    "    if x >= -50 and x < 0:\n",
    "        y_data[ind,1]=1\n",
    "    if x >= 0  and x < 50:\n",
    "        y_data[ind,2]=1\n",
    "    if x >= 50:\n",
    "        y_data[ind,3]=1\n",
    "    ind += 1\n",
    "\n",
    "ind = 0\n",
    "for x in X_test:\n",
    "#     if x<0:\n",
    "#         y_test[ind,0]=1\n",
    "#     else:\n",
    "#         y_test[ind,1]=1    \n",
    "    if x < -50:\n",
    "        y_test[ind,0]=1\n",
    "    if x >= -50 and x < 0:\n",
    "        y_test[ind,1]=1\n",
    "    if x >= 0  and x < 50:\n",
    "        y_test[ind,2]=1\n",
    "    if x >= 50:\n",
    "        y_test[ind,3]=1\n",
    "    ind += 1\n",
    "\n",
    "batch = 100\n",
    "\n",
    "with tf.device('/gpu:0'):\n",
    "    X = tf.placeholder(\"float\", [None, 1]) \n",
    "    Y = tf.placeholder(\"float\", [None, 4])\n",
    "    w1 = tf.Variable(tf.random_normal([1, 20], stddev=0.01))\n",
    "    b1 = tf.Variable(tf.zeros([20, ]))\n",
    "    fc1 = tf.add(tf.matmul(X, w1),b1)\n",
    "    act1 = tf.nn.relu(fc1)\n",
    "    w2 = tf.Variable(tf.random_normal([20, 4], stddev=0.01))\n",
    "    b2 = tf.Variable(tf.zeros([4, ]))\n",
    "    py_x = tf.add(tf.matmul(act1, w2),b2)\n",
    "    cost = tf.reduce_mean(tf.nn.softmax_cross_entropy_with_logits(py_x, Y)) \n",
    "    train_op = tf.train.GradientDescentOptimizer(0.0005).minimize(cost) \n",
    "    predict_op = tf.argmax(py_x, 1)"
   ]
  },
  {
   "cell_type": "code",
   "execution_count": 18,
   "metadata": {
    "collapsed": false,
    "deletable": true,
    "editable": true
   },
   "outputs": [],
   "source": [
    "#print(train_op,predict_op,cost)\n",
    "sess = tf.Session()\n",
    "#print(sess)\n",
    "init = tf.global_variables_initializer()\n",
    "sess.run(init)"
   ]
  },
  {
   "cell_type": "code",
   "execution_count": 16,
   "metadata": {
    "collapsed": false,
    "deletable": true,
    "editable": true
   },
   "outputs": [
    {
     "name": "stdout",
     "output_type": "stream",
     "text": [
      " epoch : 799\n",
      "799 0.8\n"
     ]
    }
   ],
   "source": [
    "for i in range(800):\n",
    "    sys.stdout.write('\\r epoch : %d' % i)\n",
    "    sys.stdout.flush()\n",
    "    time.sleep(0.2)\n",
    "    #train\n",
    "    for start, end in zip(range(0, len(X_data), batch), range(batch, len(y_data), batch)):\n",
    "        #print(start,end)\n",
    "        Xd = np.mat([X_data[start:end]]).T\n",
    "        yd = y_data[start:end]\n",
    "        #print(Xd.shape,yd.shape,train_op)\n",
    "        sess.run(train_op, feed_dict={X: Xd, Y: yd})\n",
    "\n",
    "print('')\n",
    "print(i, np.mean(np.argmax(y_test, axis=1) ==sess.run(predict_op, feed_dict={X: np.mat(X_test).T})))"
   ]
  },
  {
   "cell_type": "code",
   "execution_count": null,
   "metadata": {
    "collapsed": true,
    "deletable": true,
    "editable": true
   },
   "outputs": [],
   "source": []
  }
 ],
 "metadata": {
  "kernelspec": {
   "display_name": "Python 3",
   "language": "python",
   "name": "python3"
  },
  "language_info": {
   "codemirror_mode": {
    "name": "ipython",
    "version": 3
   },
   "file_extension": ".py",
   "mimetype": "text/x-python",
   "name": "python",
   "nbconvert_exporter": "python",
   "pygments_lexer": "ipython3",
   "version": "3.6.0"
  }
 },
 "nbformat": 4,
 "nbformat_minor": 2
}
