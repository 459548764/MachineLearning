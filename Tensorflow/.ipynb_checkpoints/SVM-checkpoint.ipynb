{
 "cells": [
  {
   "cell_type": "code",
   "execution_count": 183,
   "metadata": {
    "collapsed": false
   },
   "outputs": [
    {
     "data": {
      "image/png": "[encoded data removed]",
      "text/plain": [
       "<matplotlib.figure.Figure at 0x10e174358>"
      ]
     },
     "metadata": {},
     "output_type": "display_data"
    }
   ],
   "source": [
    "%matplotlib inline\n",
    "import numpy as np\n",
    "import os, string\n",
    "from matplotlib import pyplot as plt\n",
    "import tensorflow as tf\n",
    "\n",
    "center=np.mat([0.,0.])\n",
    "#center2=np.mat([10.,10.])\n",
    "#generate data\n",
    "radius = 10.\n",
    "num1=100\n",
    "num2 = 100\n",
    "np.random.seed(0)\n",
    "data1 = np.ones([num1,3])\n",
    "data2 = np.ones([num2,3])*-1.0\n",
    "for i in range(0,num1):\n",
    "    data1[i,:2] = 50. * (np.random.random([1,2])-0.5)\n",
    "    while(np.linalg.norm(data1[i,:2]-center) > 10.0):\n",
    "        data1[i,:2] = 50. * (np.random.random([1,2])-0.5)\n",
    "for i in range(0,num2): \n",
    "    while(np.linalg.norm(data2[i,:2]-center) < 10.0):\n",
    "        #print(data2[i,:])\n",
    "        data2[i,:2] = 50. * (np.random.random([1,2])-0.5)\n",
    "        \n",
    "plt.scatter(x=data1[:,0],y=data1[:,1])\n",
    "plt.scatter(x=data2[:,0],y=data2[:,1])\n",
    "plt.show()"
   ]
  },
  {
   "cell_type": "code",
   "execution_count": 184,
   "metadata": {
    "collapsed": false
   },
   "outputs": [
    {
     "name": "stdout",
     "output_type": "stream",
     "text": [
      "[[ 1.          0.35767067  0.46460669 ...,  0.09105158  0.11604101\n",
      "   0.23749968]\n",
      " [ 0.35767067  1.          0.28476585 ...,  0.20938626  0.12194354\n",
      "   0.1228445 ]\n",
      " [ 0.46460669  0.28476585  1.         ...,  0.06005833  0.24094547\n",
      "   0.43129903]\n",
      " ..., \n",
      " [ 0.09105158  0.20938626  0.06005833 ...,  1.          0.02957171\n",
      "   0.02592518]\n",
      " [ 0.11604101  0.12194354  0.24094547 ...,  0.02957171  1.          0.23361438]\n",
      " [ 0.23749968  0.1228445   0.43129903 ...,  0.02592518  0.23361438  1.        ]]\n",
      "(200, 200)\n"
     ]
    }
   ],
   "source": [
    "sigma = 0.1\n",
    "x=np.mat(np.vstack((data1,data2)))\n",
    "#print(np.tile(x[:,0].T,[x.shape[0],1]))\n",
    "#print(np.tile(x[:,0],[1,x.shape[0]]))\n",
    "kkx = np.square(np.tile(x[:,0].T,[x.shape[0],1])-np.tile(x[:,0],[1,x.shape[0]]))\n",
    "#print(kkx)\n",
    "kkx += np.square(np.tile(x[:,1].T,[x.shape[0],1])-np.tile(x[:,1],[1,x.shape[0]]))\n",
    "kkx = np.sqrt(kkx)\n",
    "kkx = np.exp(-sigma * kkx )\n",
    "print(kkx)\n",
    "print(kkx.shape)"
   ]
  },
  {
   "cell_type": "code",
   "execution_count": 265,
   "metadata": {
    "collapsed": false
   },
   "outputs": [],
   "source": [
    "lam = 1./2.\n",
    "batch = x.shape[0]\n",
    "with tf.device('/cpu:0'):\n",
    "    alpha = tf.Variable(tf.random_uniform([batch,1],-1.0,1.0))\n",
    "    KX = tf.placeholder(\"float\", shape=[batch,batch])\n",
    "    y = tf.placeholder(\"float\", shape=[batch,1])\n",
    "    loss = lam*tf.reduce_sum(tf.matmul(alpha,tf.transpose(alpha))*KX)\n",
    "    tmp = tf.matmul(KX, alpha)\n",
    "    tmp = y*tmp\n",
    "    tmp = 1. - tmp\n",
    "    tmp = tf.maximum(0.,tmp)\n",
    "    tmp = 1./batch*tf.reduce_sum(tmp)\n",
    "    loss += tmp\n",
    "    optimizer = tf.train.GradientDescentOptimizer(0.00002)\n",
    "    train_op = optimizer.minimize(loss)\n",
    "    predict_op = tf.reduce_sum(tf.reduce_sum(alpha*KX,1) - y)"
   ]
  },
  {
   "cell_type": "code",
   "execution_count": 267,
   "metadata": {
    "collapsed": false
   },
   "outputs": [
    {
     "name": "stdout",
     "output_type": "stream",
     "text": [
      "0 loss: 1176.1\n",
      "500 loss: 2764.02\n",
      "1000 loss: 3524.2\n",
      "1500 loss: 3837.53\n",
      "2000 loss: 3973.1\n",
      "2500 loss: 4082.55\n",
      "3000 loss: 4160.74\n",
      "3500 loss: 4226.51\n",
      "4000 loss: 4326.84\n",
      "4500 loss: 4390.17\n",
      "5000 loss: 4410.02\n",
      "5500 loss: 4380.2\n",
      "6000 loss: 4325.04\n",
      "6500 loss: 4252.4\n",
      "7000 loss: 4178.7\n",
      "7500 loss: 4105.6\n"
     ]
    }
   ],
   "source": [
    "import sys,time\n",
    "# test1 = tf.Variable([[1,2,3,4]])\n",
    "# test2 = tf.tile(test1,[4,1])\n",
    "# test3 = tf.tile(tf.reshape(test1,[4,1]),[1,4])\n",
    "# test4=test2*test3-5\n",
    "# test5=tf.maximum(0,test4)\n",
    "# sess = tf.Session()\n",
    "# init = tf.global_variables_initializer()\n",
    "# sess.run(init)\n",
    "# print(sess.run(test2))\n",
    "# print(sess.run(test3))\n",
    "# print(sess.run(test4))\n",
    "# print(sess.run(test5))\n",
    "sess = tf.Session()\n",
    "init = tf.global_variables_initializer()\n",
    "sess.run(init)\n",
    "for i in range(8000):\n",
    "    #sys.stdout.write('\\r epoch : %d' % i)\n",
    "    #sys.stdout.flush()\n",
    "    #time.sleep(0.2)\n",
    "    _,pre = sess.run([train_op,predict_op], feed_dict={KX: kkx, y: x[:,2]})\n",
    "    if i % 500 == 0:\n",
    "        print(i,'loss:',pre)\n",
    "    \n",
    "resA = sess.run(alpha)\n",
    "#print(resA)\n",
    "#w=kkx"
   ]
  },
  {
   "cell_type": "code",
   "execution_count": 268,
   "metadata": {
    "collapsed": false
   },
   "outputs": [
    {
     "data": {
      "image/png": "[encoded data removed]",
      "text/plain": [
       "<matplotlib.figure.Figure at 0x1126bbb70>"
      ]
     },
     "metadata": {},
     "output_type": "display_data"
    }
   ],
   "source": [
    "#print(resA.shape,kkx.shape)\n",
    "predict=np.sum(resA.T*kkx,axis=0)\n",
    "predict = predict.T\n",
    "#print(predict.shape)\n",
    "#duibi = np.zeros((100,2))\n",
    "#print(duibi.shape)\n",
    "#duibi[:,0] = np.mat(predict.T>0.0).T\n",
    "#duibi[:,1] = x[:,2].T>0\n",
    "#print(duibi)\n",
    "#print(predict>0.0)\n",
    "#print(predict.shape)\n",
    "predict=np.tile(predict,[1,3])\n",
    "#print(predict>0.0)\n",
    "ax = np.array(x)\n",
    "predictSet1=ax[predict>0.0].reshape([-1,3])\n",
    "predictSet2=ax[predict<0.0].reshape([-1,3])\n",
    "\n",
    "#print(predictSet1)\n",
    "plt.scatter(x=predictSet1[:,0],y=predictSet1[:,1])\n",
    "plt.scatter(x=predictSet2[:,0],y=predictSet2[:,1])\n",
    "plt.show()\n",
    "#print(x)"
   ]
  },
  {
   "cell_type": "code",
   "execution_count": null,
   "metadata": {
    "collapsed": true
   },
   "outputs": [],
   "source": []
  }
 ],
 "metadata": {
  "kernelspec": {
   "display_name": "Python 3",
   "language": "python",
   "name": "python3"
  },
  "language_info": {
   "codemirror_mode": {
    "name": "ipython",
    "version": 3
   },
   "file_extension": ".py",
   "mimetype": "text/x-python",
   "name": "python",
   "nbconvert_exporter": "python",
   "pygments_lexer": "ipython3",
   "version": "3.6.0"
  }
 },
 "nbformat": 4,
 "nbformat_minor": 2
}
