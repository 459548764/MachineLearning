{
 "cells": [
  {
   "cell_type": "code",
   "execution_count": 1,
   "metadata": {
    "collapsed": false
   },
   "outputs": [],
   "source": [
    "%matplotlib notebook \n",
    "import numpy as np\n",
    "import os, string\n",
    "from matplotlib import pyplot as plt\n",
    "import scipy as sp\n",
    "import sklearn as sk\n",
    "import tensorflow as tf\n",
    "from tensorflow.contrib.tensor_forest.client import random_forest\n",
    "from tensorflow.contrib.tensor_forest.python import tensor_forest\n",
    "from sklearn.datasets import load_iris \n",
    "from sklearn.datasets import load_boston\n",
    "#iris = load_iris()\n",
    "#data=iris['data']\n",
    "#target = iris['target']\n",
    "#print(data.shape)"
   ]
  },
  {
   "cell_type": "code",
   "execution_count": 2,
   "metadata": {
    "collapsed": false
   },
   "outputs": [
    {
     "name": "stdout",
     "output_type": "stream",
     "text": [
      "WARNING:tensorflow:Using temporary folder as model directory: /var/folders/c3/jtwp_prn51zgrxtgn0zm8cp80000gn/T/tmpqwayw5xh\n",
      "INFO:tensorflow:Using default config.\n",
      "INFO:tensorflow:Using config: {'_task_type': None, '_task_id': 0, '_cluster_spec': <tensorflow.python.training.server_lib.ClusterSpec object at 0x106bbc978>, '_master': '', '_num_ps_replicas': 0, '_environment': 'local', '_is_chief': True, '_evaluation_master': '', '_tf_config': gpu_options {\n",
      "  per_process_gpu_memory_fraction: 1\n",
      "}\n",
      ", '_tf_random_seed': None, '_save_summary_steps': 100, '_save_checkpoints_secs': 600, '_save_checkpoints_steps': None, '_keep_checkpoint_max': 5, '_keep_checkpoint_every_n_hours': 10000}\n",
      "INFO:tensorflow:Constructing forest with params = \n",
      "INFO:tensorflow:{'num_trees': 3, 'max_nodes': 1000, 'bagging_fraction': 1.0, 'feature_bagging_fraction': 1.0, 'num_splits_to_consider': 4, 'max_fertile_nodes': 500, 'split_after_samples': 20, 'min_split_samples': 5, 'valid_leaf_threshold': 1, 'dominate_method': 'bootstrap', 'dominate_fraction': 0.99, 'num_classes': 3, 'num_features': 4, 'bagged_num_features': 4, 'bagged_features': None, 'regression': False, 'num_outputs': 1, 'num_output_columns': 4, 'split_initializations_per_input': 1, 'base_random_seed': 0}\n",
      "INFO:tensorflow:training graph for tree: 0\n",
      "INFO:tensorflow:training graph for tree: 1\n",
      "INFO:tensorflow:training graph for tree: 2\n",
      "INFO:tensorflow:Create CheckpointSaverHook.\n",
      "INFO:tensorflow:Saving checkpoints for 1 into /var/folders/c3/jtwp_prn51zgrxtgn0zm8cp80000gn/T/tmpqwayw5xh/model.ckpt.\n",
      "INFO:tensorflow:loss = -0.0, step = 1\n",
      "INFO:tensorflow:TensorForestLossHook resetting last_step.\n",
      "INFO:tensorflow:Saving checkpoints for 100 into /var/folders/c3/jtwp_prn51zgrxtgn0zm8cp80000gn/T/tmpqwayw5xh/model.ckpt.\n",
      "INFO:tensorflow:Loss for final step: -302.667.\n",
      "INFO:tensorflow:Constructing forest with params = \n",
      "INFO:tensorflow:{'num_trees': 3, 'max_nodes': 1000, 'bagging_fraction': 1.0, 'feature_bagging_fraction': 1.0, 'num_splits_to_consider': 4, 'max_fertile_nodes': 500, 'split_after_samples': 20, 'min_split_samples': 5, 'valid_leaf_threshold': 1, 'dominate_method': 'bootstrap', 'dominate_fraction': 0.99, 'num_classes': 3, 'num_features': 4, 'bagged_num_features': 4, 'bagged_features': None, 'regression': False, 'num_outputs': 1, 'num_output_columns': 4, 'split_initializations_per_input': 1, 'base_random_seed': 0}\n",
      "INFO:tensorflow:training graph for tree: 0\n",
      "INFO:tensorflow:training graph for tree: 1\n",
      "INFO:tensorflow:training graph for tree: 2\n",
      "INFO:tensorflow:Starting evaluation at 2017-03-09-08:45:58\n",
      "INFO:tensorflow:Evaluation [1/10]\n",
      "INFO:tensorflow:Finished evaluation at 2017-03-09-08:45:58\n",
      "INFO:tensorflow:Saving dict for global step 100: global_step = 100, loss = -306.667\n",
      "WARNING:tensorflow:Skipping summary for global_step, must be a float or np.float32.\n"
     ]
    },
    {
     "data": {
      "text/plain": [
       "{'global_step': 100, 'loss': -306.66666}"
      ]
     },
     "execution_count": 2,
     "metadata": {},
     "output_type": "execute_result"
    }
   ],
   "source": [
    "hparams = tensor_forest.ForestHParams(\n",
    "        num_trees=3,\n",
    "        max_nodes=1000,\n",
    "        num_classes=3,\n",
    "        num_features=4,\n",
    "        split_after_samples=20)\n",
    "classifier = random_forest.TensorForestEstimator(hparams.fill())\n",
    "\n",
    "iris = load_iris()\n",
    "data = iris.data.astype(np.float32)\n",
    "labels = iris.target.astype(np.float32)\n",
    "\n",
    "classifier.fit(x=data, y=labels, steps=100, batch_size=50)\n",
    "classifier.evaluate(x=data, y=labels, steps=10)"
   ]
  },
  {
   "cell_type": "code",
   "execution_count": 3,
   "metadata": {
    "collapsed": false
   },
   "outputs": [
    {
     "name": "stdout",
     "output_type": "stream",
     "text": [
      "INFO:tensorflow:Constructing forest with params = \n",
      "INFO:tensorflow:{'num_trees': 3, 'max_nodes': 1000, 'bagging_fraction': 1.0, 'feature_bagging_fraction': 1.0, 'num_splits_to_consider': 4, 'max_fertile_nodes': 500, 'split_after_samples': 20, 'min_split_samples': 5, 'valid_leaf_threshold': 1, 'dominate_method': 'bootstrap', 'dominate_fraction': 0.99, 'num_classes': 3, 'num_features': 4, 'bagged_num_features': 4, 'bagged_features': None, 'regression': False, 'num_outputs': 1, 'num_output_columns': 4, 'split_initializations_per_input': 1, 'base_random_seed': 0}\n",
      "INFO:tensorflow:training graph for tree: 0\n",
      "INFO:tensorflow:training graph for tree: 1\n",
      "INFO:tensorflow:training graph for tree: 2\n",
      "[0 0 0 0 0 0 0 0 0 0 0 0 0 0 0 0 0 0 0 0 0 0 0 0 0 0 0 0 0 0 0 0 0 0 0 0 0\n",
      " 0 0 0 0 0 0 0 0 0 0 0 0 0 1 1 1 1 1 1 1 1 1 1 1 1 1 1 1 1 1 1 1 1 1 1 1 1\n",
      " 1 1 1 1 1 1 1 1 1 1 1 1 1 1 1 1 1 1 1 1 1 1 1 1 1 1 2 2 2 2 2 2 2 2 2 2 2\n",
      " 2 2 2 2 2 2 2 2 2 2 2 2 2 2 2 2 2 2 2 2 2 2 2 2 2 2 2 2 2 2 2 2 2 2 2 2 2\n",
      " 2 2]\n"
     ]
    }
   ],
   "source": [
    "print(classifier.predict(data))"
   ]
  },
  {
   "cell_type": "code",
   "execution_count": 4,
   "metadata": {
    "collapsed": false
   },
   "outputs": [
    {
     "name": "stdout",
     "output_type": "stream",
     "text": [
      "WARNING:tensorflow:Using temporary folder as model directory: /var/folders/c3/jtwp_prn51zgrxtgn0zm8cp80000gn/T/tmpy8qjm1ni\n",
      "INFO:tensorflow:Using default config.\n",
      "INFO:tensorflow:Using config: {'_task_type': None, '_task_id': 0, '_cluster_spec': <tensorflow.python.training.server_lib.ClusterSpec object at 0x11740eef0>, '_master': '', '_num_ps_replicas': 0, '_environment': 'local', '_is_chief': True, '_evaluation_master': '', '_tf_config': gpu_options {\n",
      "  per_process_gpu_memory_fraction: 1\n",
      "}\n",
      ", '_tf_random_seed': None, '_save_summary_steps': 100, '_save_checkpoints_secs': 600, '_save_checkpoints_steps': None, '_keep_checkpoint_max': 5, '_keep_checkpoint_every_n_hours': 10000}\n",
      "INFO:tensorflow:Constructing forest with params = \n",
      "INFO:tensorflow:{'num_trees': 3, 'max_nodes': 1000, 'bagging_fraction': 1.0, 'feature_bagging_fraction': 1.0, 'num_splits_to_consider': 13, 'max_fertile_nodes': 500, 'split_after_samples': 20, 'min_split_samples': 5, 'valid_leaf_threshold': 1, 'dominate_method': 'bootstrap', 'dominate_fraction': 0.99, 'num_classes': 1, 'num_features': 13, 'regression': True, 'bagged_num_features': 13, 'bagged_features': None, 'num_outputs': 1, 'num_output_columns': 2, 'split_initializations_per_input': 1, 'base_random_seed': 0}\n",
      "INFO:tensorflow:training graph for tree: 0\n",
      "INFO:tensorflow:training graph for tree: 1\n",
      "INFO:tensorflow:training graph for tree: 2\n",
      "INFO:tensorflow:Create CheckpointSaverHook.\n",
      "INFO:tensorflow:Saving checkpoints for 1 into /var/folders/c3/jtwp_prn51zgrxtgn0zm8cp80000gn/T/tmpy8qjm1ni/model.ckpt.\n",
      "INFO:tensorflow:loss = -0.0, step = 1\n",
      "INFO:tensorflow:TensorForestLossHook resetting last_step.\n",
      "INFO:tensorflow:Saving checkpoints for 100 into /var/folders/c3/jtwp_prn51zgrxtgn0zm8cp80000gn/T/tmpy8qjm1ni/model.ckpt.\n",
      "INFO:tensorflow:Loss for final step: -182.667.\n",
      "INFO:tensorflow:Constructing forest with params = \n",
      "INFO:tensorflow:{'num_trees': 3, 'max_nodes': 1000, 'bagging_fraction': 1.0, 'feature_bagging_fraction': 1.0, 'num_splits_to_consider': 13, 'max_fertile_nodes': 500, 'split_after_samples': 20, 'min_split_samples': 5, 'valid_leaf_threshold': 1, 'dominate_method': 'bootstrap', 'dominate_fraction': 0.99, 'num_classes': 1, 'num_features': 13, 'regression': True, 'bagged_num_features': 13, 'bagged_features': None, 'num_outputs': 1, 'num_output_columns': 2, 'split_initializations_per_input': 1, 'base_random_seed': 0}\n",
      "INFO:tensorflow:training graph for tree: 0\n",
      "INFO:tensorflow:training graph for tree: 1\n",
      "INFO:tensorflow:training graph for tree: 2\n",
      "INFO:tensorflow:Starting evaluation at 2017-03-09-08:46:13\n",
      "INFO:tensorflow:Evaluation [1/10]\n",
      "INFO:tensorflow:Finished evaluation at 2017-03-09-08:46:14\n",
      "INFO:tensorflow:Saving dict for global step 100: global_step = 100, loss = -183.333\n",
      "WARNING:tensorflow:Skipping summary for global_step, must be a float or np.float32.\n"
     ]
    },
    {
     "data": {
      "text/plain": [
       "{'global_step': 100, 'loss': -183.33333}"
      ]
     },
     "execution_count": 4,
     "metadata": {},
     "output_type": "execute_result"
    }
   ],
   "source": [
    "hparams = tensor_forest.ForestHParams(\n",
    "        num_trees=3,\n",
    "        max_nodes=1000,\n",
    "        num_classes=1,\n",
    "        num_features=13,\n",
    "        regression=True,\n",
    "        split_after_samples=20)\n",
    "\n",
    "regressor = random_forest.TensorForestEstimator(hparams.fill())\n",
    "\n",
    "boston = load_boston()\n",
    "data = boston.data.astype(np.float32)\n",
    "labels = boston.target.astype(np.float32)\n",
    "\n",
    "regressor.fit(x=data, y=labels, steps=100, batch_size=50)\n",
    "regressor.evaluate(x=data, y=labels, steps=10)"
   ]
  },
  {
   "cell_type": "code",
   "execution_count": 15,
   "metadata": {
    "collapsed": false
   },
   "outputs": [
    {
     "name": "stdout",
     "output_type": "stream",
     "text": [
      "INFO:tensorflow:Constructing forest with params = \n",
      "INFO:tensorflow:{'num_trees': 3, 'max_nodes': 1000, 'bagging_fraction': 1.0, 'feature_bagging_fraction': 1.0, 'num_splits_to_consider': 13, 'max_fertile_nodes': 500, 'split_after_samples': 20, 'min_split_samples': 5, 'valid_leaf_threshold': 1, 'dominate_method': 'bootstrap', 'dominate_fraction': 0.99, 'num_classes': 1, 'num_features': 13, 'regression': True, 'bagged_num_features': 13, 'bagged_features': None, 'num_outputs': 1, 'num_output_columns': 2, 'split_initializations_per_input': 1, 'base_random_seed': 0}\n",
      "INFO:tensorflow:training graph for tree: 0\n",
      "INFO:tensorflow:training graph for tree: 1\n",
      "INFO:tensorflow:training graph for tree: 2\n",
      "[[ 26.37006187  23.48611259  32.54696274 ...,  24.24166679  24.49845695\n",
      "   17.7004261 ]\n",
      " [ 24.          21.60000038  34.70000076 ...,  23.89999962  22.\n",
      "   11.89999962]]\n"
     ]
    }
   ],
   "source": [
    "a=regressor.predict(data)\n",
    "b=np.vstack([a.reshape(1,506),labels.reshape(1,506)])\n",
    "print(b)"
   ]
  },
  {
   "cell_type": "code",
   "execution_count": 14,
   "metadata": {
    "collapsed": false
   },
   "outputs": [
    {
     "name": "stdout",
     "output_type": "stream",
     "text": [
      "(1, 1012)\n"
     ]
    }
   ],
   "source": [
    "print(b.shape)"
   ]
  },
  {
   "cell_type": "code",
   "execution_count": 19,
   "metadata": {
    "collapsed": false
   },
   "outputs": [
    {
     "name": "stdout",
     "output_type": "stream",
     "text": [
      "Help on method export in module tensorflow.contrib.tensor_forest.client.random_forest:\n",
      "\n",
      "export(export_dir, input_fn, signature_fn=None, input_feature_key=None, default_batch_size=1) method of tensorflow.contrib.tensor_forest.client.random_forest.TensorForestEstimator instance\n",
      "    See BaseEstimator.export.\n",
      "\n"
     ]
    }
   ],
   "source": [
    "help(regressor.export)"
   ]
  },
  {
   "cell_type": "code",
   "execution_count": null,
   "metadata": {
    "collapsed": true
   },
   "outputs": [],
   "source": []
  }
 ],
 "metadata": {
  "kernelspec": {
   "display_name": "Python 3",
   "language": "python",
   "name": "python3"
  },
  "language_info": {
   "codemirror_mode": {
    "name": "ipython",
    "version": 3
   },
   "file_extension": ".py",
   "mimetype": "text/x-python",
   "name": "python",
   "nbconvert_exporter": "python",
   "pygments_lexer": "ipython3",
   "version": "3.6.0"
  }
 },
 "nbformat": 4,
 "nbformat_minor": 2
}
