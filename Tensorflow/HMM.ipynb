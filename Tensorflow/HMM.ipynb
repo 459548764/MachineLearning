{
 "cells": [
  {
   "cell_type": "code",
   "execution_count": 1,
   "metadata": {
    "collapsed": false,
    "deletable": true,
    "editable": true,
    "scrolled": true
   },
   "outputs": [
    {
     "name": "stdout",
     "output_type": "stream",
     "text": [
      "[[ 0.6  0.4]]\n",
      "[[ 0.7  0.3]\n",
      " [ 0.4  0.6]]\n",
      "[[ 0.1  0.4  0.5]\n",
      " [ 0.6  0.3  0.1]]\n"
     ]
    }
   ],
   "source": [
    "%matplotlib inline\n",
    "import numpy as np\n",
    "import os, string\n",
    "from matplotlib import pyplot as plt\n",
    "import tensorflow as tf\n",
    "import seaborn as sns\n",
    "\n",
    "states = ('Rainy', 'Sunny')\n",
    " \n",
    "observations = ('walk', 'shop', 'clean')\n",
    " \n",
    "start_probability = {'Rainy': 0.6, 'Sunny': 0.4}\n",
    " \n",
    "transition_probability = {\n",
    "    'Rainy' : {'Rainy': 0.7, 'Sunny': 0.3},\n",
    "    'Sunny' : {'Rainy': 0.4, 'Sunny': 0.6},\n",
    "    }\n",
    " \n",
    "emission_probability = {\n",
    "    'Rainy' : {'walk': 0.1, 'shop': 0.4, 'clean': 0.5},\n",
    "    'Sunny' : {'walk': 0.6, 'shop': 0.3, 'clean': 0.1},\n",
    "}\n",
    "\n",
    "stateNum = 2\n",
    "estateNum = 3\n",
    "p0=np.mat([0.6,0.4])\n",
    "T = np.mat([[0.7,0.3],[0.4,0.6]])\n",
    "E = np.mat([[0.1,0.4,0.5],[0.6,0.3,0.1]])\n",
    "obchain = np.array([0,1,2])\n",
    "print(p0)\n",
    "print(T)\n",
    "print(E)"
   ]
  },
  {
   "cell_type": "code",
   "execution_count": 2,
   "metadata": {
    "collapsed": false,
    "deletable": true,
    "editable": true,
    "scrolled": false
   },
   "outputs": [],
   "source": [
    "with tf.device('/cpu:0'):\n",
    "    with tf.variable_scope(\"zh\", reuse=None):\n",
    "        start = tf.placeholder('float',p0.shape)\n",
    "        #print(start.get_shape())\n",
    "        tT = tf.placeholder('float',T.shape) \n",
    "        tE = tf.placeholder('float',E.shape)\n",
    "        #y = tf.placeholder('float',[obchain.shape[0],estateNum])\n",
    "        y0 = tf.placeholder('float',[1,estateNum])\n",
    "        y1 = tf.placeholder('float',[1,estateNum])\n",
    "        y2 = tf.placeholder('float',[1,estateNum])\n",
    "        state = []\n",
    "        estate = []\n",
    "        \n",
    "        pick0 = tf.get_variable(initializer=tf.ones([1,stateNum])/stateNum,name='pick0')\n",
    "        state0 = tf.multiply(start,pick0)#tf.get_variable(initializer=tf.ones([1,stateNum])/stateNum,name='state0')\n",
    "        state0 = tf.minimum(tf.maximum(state0,0.0),1.)\n",
    "        state0 /= tf.reduce_sum(state0)\n",
    "        estate0 = tf.matmul(state0,tE)\n",
    "        pick1 = tf.get_variable(initializer=tf.ones([1,stateNum])/stateNum,name='pick1')\n",
    "        state1 = tf.multiply(tf.matmul(state0,tT),pick1)\n",
    "        state1 = tf.minimum(tf.maximum(state1,0.0),1.)\n",
    "        state1 /= tf.reduce_sum(state1)\n",
    "        estate1 = tf.matmul(state1,tE)\n",
    "        pick2 = tf.get_variable(initializer=tf.ones([1,stateNum])/stateNum,name='pick2')\n",
    "        state2 = tf.multiply(tf.matmul(state1,tT),pick2)\n",
    "        state2 = tf.minimum(tf.maximum(state2,0.0),1.)\n",
    "        state2 /= tf.reduce_sum(state2)\n",
    "        estate2 = tf.matmul(state2,tE)\n",
    "        loss = tf.reduce_sum(tf.multiply(estate0,y0))\n",
    "        loss *= tf.reduce_sum(tf.multiply(estate1,y1))\n",
    "        loss *= tf.reduce_sum(tf.multiply(estate2,y2))\n",
    "        loss *= -1.\n",
    "#         for i in range(0,obchain.shape[0]):\n",
    "#             latentChainProb.append(tf.get_variable(initializer=tf.random_uniform([1,2],0.,1.0),name='latentChainProb%d'%i))\n",
    "\n",
    "#         for i in range(0,obchain.shape[0]):\n",
    "#             latentChainProb[i] = tf.minimum(tf.maximum(latentChainProb[i],0.0),1.)\n",
    "#             latentChainProb[i] = latentChainProb[i]/tf.reduce_sum(latentChainProb[i])\n",
    "#             state = tf.multiply(state,latentChainProb[i])\n",
    "#             #print(state.get_shape(), tT.get_shape())\n",
    "#             state = tf.minimum(tf.maximum(tf.matmul(state,tT),0.0),1.)\n",
    "#             estate = tf.minimum(tf.maximum(tf.matmul(state,tE),0.),1.)\n",
    "#             #estate = tf.cast(tf.argmax(estate,dimension=1),tf.float32)\n",
    "#             #print(estate.get_shape())\n",
    "#             estate = estate/tf.reduce_sum(estate)\n",
    "#             print(estate.dtype,estate.get_shape())\n",
    "#             chainProb.append(estate)\n",
    "\n",
    "        #epredict = tf.concat(estate,0)\n",
    "        #print(epredict.get_shape())\n",
    "        #loss = tf.nn.l2_loss(y1-estate[0])+tf.nn.l2_loss(estate[1]-y2)+tf.nn.l2_loss(y3-estate[2])#tf.nn.l2_loss(epredict-y)\n",
    "        global_step = tf.Variable(0, name = 'global_step',trainable=False)\n",
    "        starter_learning_rate = 0.1\n",
    "        learning_rate = tf.train.exponential_decay(starter_learning_rate, global_step,500, 0.95, staircase=True)\n",
    "        train_op = tf.train.AdamOptimizer(learning_rate=learning_rate).minimize(loss=loss,global_step = global_step) \n",
    "    \n",
    "init = tf.global_variables_initializer ()\n",
    "# Launch the graph.\n",
    "config = tf.ConfigProto(allow_soft_placement = True)\n",
    "sess = tf.Session(config = config)\n",
    "sess.run(tf.global_variables_initializer())  "
   ]
  },
  {
   "cell_type": "code",
   "execution_count": 3,
   "metadata": {
    "collapsed": false,
    "deletable": true,
    "editable": true,
    "scrolled": false
   },
   "outputs": [
    {
     "name": "stdout",
     "output_type": "stream",
     "text": [
      "[[1 0 0]\n",
      " [0 1 0]\n",
      " [0 0 1]]\n",
      "0 [[ 0.30000001  0.36000001  0.34      ]] [[ 0.31000003  0.35800004  0.33200002]] [[ 0.31300002  0.3574      0.32960001]] -0.035399 0.1\n",
      "100 [[ 0.60000002  0.30000001  0.1       ]] [[ 0.1         0.40000001  0.5       ]] [[ 0.1         0.40000001  0.5       ]] -0.12 0.1\n",
      "200 [[ 0.60000002  0.30000001  0.1       ]] [[ 0.1         0.40000001  0.5       ]] [[ 0.1         0.40000001  0.5       ]] -0.12 0.1\n",
      "300 [[ 0.60000002  0.30000001  0.1       ]] [[ 0.1         0.40000001  0.5       ]] [[ 0.1         0.40000001  0.5       ]] -0.12 0.1\n",
      "400 [[ 0.60000002  0.30000001  0.1       ]] [[ 0.1         0.40000001  0.5       ]] [[ 0.1         0.40000001  0.5       ]] -0.12 0.1\n",
      "500 [[ 0.60000002  0.30000001  0.1       ]] [[ 0.1         0.40000001  0.5       ]] [[ 0.1         0.40000001  0.5       ]] -0.12 0.095\n",
      "600 [[ 0.60000002  0.30000001  0.1       ]] [[ 0.1         0.40000001  0.5       ]] [[ 0.1         0.40000001  0.5       ]] -0.12 0.095\n",
      "700 [[ 0.60000002  0.30000001  0.1       ]] [[ 0.1         0.40000001  0.5       ]] [[ 0.1         0.40000001  0.5       ]] -0.12 0.095\n",
      "800 [[ 0.60000002  0.30000001  0.1       ]] [[ 0.1         0.40000001  0.5       ]] [[ 0.1         0.40000001  0.5       ]] -0.12 0.095\n",
      "900 [[ 0.60000002  0.30000001  0.1       ]] [[ 0.1         0.40000001  0.5       ]] [[ 0.1         0.40000001  0.5       ]] -0.12 0.095\n"
     ]
    }
   ],
   "source": [
    "import sys,time\n",
    "y_=np.zeros([obchain.shape[0],estateNum],np.int)\n",
    "for i in range(0,obchain.shape[0]):\n",
    "    y_[obchain[i],i] = 1\n",
    "print(y_)\n",
    "for i in range(1000):\n",
    "    #train\n",
    "    _,epre0,epre1,epre2,curloss,lr = sess.run([train_op,estate0,estate1,estate2,loss,learning_rate], feed_dict={y0: y_[0,:].reshape(1,3),y1:y_[1,:].reshape(1,3),y2:y_[2,:].reshape(1,3), tT: T, tE:E,start:p0})\n",
    "    if i%100 == 0:\n",
    "        print(i,epre0,epre1,epre2,curloss,lr)\n",
    "        #sys.stdout.write('\\r epoch : %d' % i)\n",
    "        #sys.stdout.flush()\n",
    "        #time.sleep(0.2)\n",
    "        "
   ]
  },
  {
   "cell_type": "code",
   "execution_count": 5,
   "metadata": {
    "collapsed": false,
    "deletable": true,
    "editable": true
   },
   "outputs": [
    {
     "name": "stdout",
     "output_type": "stream",
     "text": [
      "[[ 0.  1.]]\n",
      "[[ 1.  0.]]\n",
      "[[ 1.  0.]]\n"
     ]
    }
   ],
   "source": [
    "print(sess.run(state0,feed_dict={y0: y_[0,:].reshape(1,3),y1:y_[1,:].reshape(1,3),y2:y_[2,:].reshape(1,3), tT: T, tE:E,start:p0}))\n",
    "print(sess.run(state1,feed_dict={y0: y_[0,:].reshape(1,3),y1:y_[1,:].reshape(1,3),y2:y_[2,:].reshape(1,3), tT: T, tE:E,start:p0}))\n",
    "print(sess.run(state2,feed_dict={y0: y_[0,:].reshape(1,3),y1:y_[1,:].reshape(1,3),y2:y_[2,:].reshape(1,3), tT: T, tE:E,start:p0}))\n",
    "#print(sess.run(latentChainProb[2]))"
   ]
  },
  {
   "cell_type": "code",
   "execution_count": 8,
   "metadata": {
    "collapsed": false,
    "deletable": true,
    "editable": true
   },
   "outputs": [
    {
     "name": "stdout",
     "output_type": "stream",
     "text": [
      "Help on function concat in module tensorflow.python.ops.array_ops:\n",
      "\n",
      "concat(values, axis, name='concat')\n",
      "    Concatenates tensors along one dimension.\n",
      "    \n",
      "    Concatenates the list of tensors `values` along dimension `axis`.  If\n",
      "    `values[i].shape = [D0, D1, ... Daxis(i), ...Dn]`, the concatenated\n",
      "    result has shape\n",
      "    \n",
      "        [D0, D1, ... Raxis, ...Dn]\n",
      "    \n",
      "    where\n",
      "    \n",
      "        Raxis = sum(Daxis(i))\n",
      "    \n",
      "    That is, the data from the input tensors is joined along the `axis`\n",
      "    dimension.\n",
      "    \n",
      "    The number of dimensions of the input tensors must match, and all dimensions\n",
      "    except `axis` must be equal.\n",
      "    \n",
      "    For example:\n",
      "    \n",
      "    ```python\n",
      "    t1 = [[1, 2, 3], [4, 5, 6]]\n",
      "    t2 = [[7, 8, 9], [10, 11, 12]]\n",
      "    tf.concat([t1, t2], 0) ==> [[1, 2, 3], [4, 5, 6], [7, 8, 9], [10, 11, 12]]\n",
      "    tf.concat([t1, t2], 1) ==> [[1, 2, 3, 7, 8, 9], [4, 5, 6, 10, 11, 12]]\n",
      "    \n",
      "    # tensor t3 with shape [2, 3]\n",
      "    # tensor t4 with shape [2, 3]\n",
      "    tf.shape(tf.concat([t3, t4], 0)) ==> [4, 3]\n",
      "    tf.shape(tf.concat([t3, t4], 1)) ==> [2, 6]\n",
      "    ```\n",
      "    \n",
      "    Note: If you are concatenating along a new axis consider using stack.\n",
      "    E.g.\n",
      "    \n",
      "    ```python\n",
      "    tf.concat([tf.expand_dims(t, axis) for t in tensors], axis)\n",
      "    ```\n",
      "    \n",
      "    can be rewritten as\n",
      "    \n",
      "    ```python\n",
      "    tf.stack(tensors, axis=axis)\n",
      "    ```\n",
      "    \n",
      "    Args:\n",
      "      values: A list of `Tensor` objects or a single `Tensor`.\n",
      "      axis: 0-D `int32` `Tensor`.  Dimension along which to concatenate.\n",
      "      name: A name for the operation (optional).\n",
      "    \n",
      "    Returns:\n",
      "      A `Tensor` resulting from concatenation of the input tensors.\n",
      "\n"
     ]
    }
   ],
   "source": [
    "help(tf.concat)"
   ]
  },
  {
   "cell_type": "code",
   "execution_count": 5,
   "metadata": {
    "collapsed": false,
    "deletable": true,
    "editable": true
   },
   "outputs": [
    {
     "name": "stdout",
     "output_type": "stream",
     "text": [
      "[[ 0.114  0.204  0.222]\n",
      " [ 0.168  0.168  0.144]]\n",
      "[ 0.282  0.372  0.366]\n"
     ]
    }
   ],
   "source": [
    "a=np.matmul(np.multiply(p0,T),E)\n",
    "print(a)\n",
    "print(a.sum(axis=0))"
   ]
  },
  {
   "cell_type": "code",
   "execution_count": 6,
   "metadata": {
    "collapsed": false,
    "deletable": true,
    "editable": true
   },
   "outputs": [
    {
     "name": "stdout",
     "output_type": "stream",
     "text": [
      "1.02\n"
     ]
    }
   ],
   "source": [
    "print(0.282 + 0.372 + 0.366)"
   ]
  },
  {
   "cell_type": "code",
   "execution_count": null,
   "metadata": {
    "collapsed": true,
    "deletable": true,
    "editable": true
   },
   "outputs": [],
   "source": []
  }
 ],
 "metadata": {
  "kernelspec": {
   "display_name": "Python 3",
   "language": "python",
   "name": "python3"
  },
  "language_info": {
   "codemirror_mode": {
    "name": "ipython",
    "version": 3
   },
   "file_extension": ".py",
   "mimetype": "text/x-python",
   "name": "python",
   "nbconvert_exporter": "python",
   "pygments_lexer": "ipython3",
   "version": "3.6.0"
  }
 },
 "nbformat": 4,
 "nbformat_minor": 2
}
