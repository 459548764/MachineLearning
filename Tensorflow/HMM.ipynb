{
 "cells": [
  {
   "cell_type": "code",
   "execution_count": 1,
   "metadata": {
    "collapsed": false,
    "deletable": true,
    "editable": true
   },
   "outputs": [
    {
     "name": "stdout",
     "output_type": "stream",
     "text": [
      "[ 0.6  0.4]\n",
      "[[ 0.7  0.3]\n",
      " [ 0.4  0.6]]\n",
      "[[ 0.1  0.4  0.5]\n",
      " [ 0.6  0.3  0.1]]\n"
     ]
    }
   ],
   "source": [
    "%matplotlib inline\n",
    "import numpy as np\n",
    "import os, string\n",
    "from matplotlib import pyplot as plt\n",
    "import tensorflow as tf\n",
    "import seaborn as sns\n",
    "\n",
    "states = ('Rainy', 'Sunny')\n",
    " \n",
    "observations = ('walk', 'shop', 'clean')\n",
    " \n",
    "start_probability = {'Rainy': 0.6, 'Sunny': 0.4}\n",
    " \n",
    "transition_probability = {\n",
    "    'Rainy' : {'Rainy': 0.7, 'Sunny': 0.3},\n",
    "    'Sunny' : {'Rainy': 0.4, 'Sunny': 0.6},\n",
    "    }\n",
    " \n",
    "emission_probability = {\n",
    "    'Rainy' : {'walk': 0.1, 'shop': 0.4, 'clean': 0.5},\n",
    "    'Sunny' : {'walk': 0.6, 'shop': 0.3, 'clean': 0.1},\n",
    "}\n",
    "\n",
    "stateNum = 2\n",
    "estateNum = 3\n",
    "p0=np.array([0.6,0.4])\n",
    "T = np.array([[0.7,0.3],[0.4,0.6]])\n",
    "E = np.array([[0.1,0.4,0.5],[0.6,0.3,0.1]])\n",
    "obchain = np.array([0,1,2])\n",
    "print(p0)\n",
    "print(T)\n",
    "print(E)"
   ]
  },
  {
   "cell_type": "code",
   "execution_count": 94,
   "metadata": {
    "collapsed": false,
    "deletable": true,
    "editable": true
   },
   "outputs": [
    {
     "name": "stdout",
     "output_type": "stream",
     "text": [
      "(3, 3)\n"
     ]
    }
   ],
   "source": [
    "with tf.device('/cpu:0'):\n",
    "    start = tf.placeholder('float',p0.shape)\n",
    "    tT = tf.placeholder('float',T.shape) \n",
    "    tE = tf.placeholder('float',E.shape)\n",
    "    y = tf.placeholder('float',[obchain.shape[0],estateNum])\n",
    "    state = tf.Variable(tf.random_uniform(p0.shape,0.,1.0))\n",
    "    state.assign(start)\n",
    "    latentChainProb=[]\n",
    "    chainProb = []\n",
    "    for i in range(0,obchain.shape[0]):\n",
    "        latentChainProb.append(tf.Variable(tf.random_uniform([1,2],0.,1.0)))\n",
    "        \n",
    "    for i in range(0,obchain.shape[0]):\n",
    "        latentChainProb[i] = tf.div(latentChainProb[i],tf.reduce_sum(latentChainProb[i]))\n",
    "        state = tf.mul(state,latentChainProb[i])\n",
    "        #print(state.get_shape(), tT.get_shape())\n",
    "        state = tf.minimum(tf.maximum(tf.matmul(state,tT),0.0),1.)\n",
    "        estate = tf.minimum(tf.maximum(tf.matmul(state,tE),0.),1.)\n",
    "        #estate = tf.cast(tf.argmax(estate,dimension=1),tf.float32)\n",
    "        #print(estate.get_shape())\n",
    "        estate = tf.div(estate,tf.reduce_sum(estate))\n",
    "        chainProb.append(estate)\n",
    "    \n",
    "    epredict = tf.concat(0,chainProb)\n",
    "    print(epredict.get_shape())\n",
    "    loss = tf.nn.l2_loss(epredict-y)\n",
    "    train_op = tf.train.GradientDescentOptimizer(0.5).minimize(loss) \n",
    "    \n",
    "init = tf.global_variables_initializer ()\n",
    "# Launch the graph.\n",
    "sess = tf.Session()\n",
    "sess.run(init)"
   ]
  },
  {
   "cell_type": "code",
   "execution_count": 95,
   "metadata": {
    "collapsed": false,
    "deletable": true,
    "editable": true
   },
   "outputs": [
    {
     "name": "stdout",
     "output_type": "stream",
     "text": [
      "[[1 0 0]\n",
      " [0 1 0]\n",
      " [0 0 1]]\n",
      "0 [[ 0.36770934  0.34645814  0.28583252]\n",
      " [ 0.35872072  0.34825587  0.29302347]\n",
      " [ 0.29234347  0.36153132  0.34612522]] 0.94228\n",
      "20 [[ 0.60000002  0.30000001  0.1       ]\n",
      " [ 0.40000001  0.33999997  0.25999996]\n",
      " [ 0.1         0.40000001  0.5       ]] 0.6716\n",
      "40 [[ 0.60000002  0.30000001  0.1       ]\n",
      " [ 0.40000001  0.33999997  0.25999996]\n",
      " [ 0.1         0.40000001  0.5       ]] 0.6716\n",
      "60 [[ 0.60000002  0.30000001  0.1       ]\n",
      " [ 0.40000001  0.33999997  0.25999996]\n",
      " [ 0.1         0.40000001  0.5       ]] 0.6716\n",
      "80 [[ 0.60000002  0.30000001  0.1       ]\n",
      " [ 0.40000001  0.33999997  0.25999996]\n",
      " [ 0.1         0.40000001  0.5       ]] 0.6716\n"
     ]
    }
   ],
   "source": [
    "import sys,time\n",
    "y_=np.zeros([obchain.shape[0],estateNum],np.int)\n",
    "for i in range(0,obchain.shape[0]):\n",
    "    y_[obchain[i],i] = 1\n",
    "print(y_)\n",
    "for i in range(100):\n",
    "    #train\n",
    "    _,epre,curloss = sess.run([train_op,epredict,loss], feed_dict={start: p0, y: y_, tT: T, tE:E})\n",
    "    if i%20 == 0:\n",
    "        print(i,epre,curloss)\n",
    "        #sys.stdout.write('\\r epoch : %d' % i)\n",
    "        #sys.stdout.flush()\n",
    "        #time.sleep(0.2)\n",
    "        "
   ]
  },
  {
   "cell_type": "code",
   "execution_count": 96,
   "metadata": {
    "collapsed": false,
    "deletable": true,
    "editable": true
   },
   "outputs": [
    {
     "name": "stdout",
     "output_type": "stream",
     "text": [
      "[[-1.558689    2.55868888]]\n",
      "[[ 0.36379731  0.63620269]]\n",
      "[[ 2.13955188 -1.13955188]]\n"
     ]
    }
   ],
   "source": [
    "print(sess.run(latentChainProb[0]))\n",
    "print(sess.run(latentChainProb[1]))\n",
    "print(sess.run(latentChainProb[2]))"
   ]
  },
  {
   "cell_type": "code",
   "execution_count": 81,
   "metadata": {
    "collapsed": false,
    "deletable": true,
    "editable": true
   },
   "outputs": [
    {
     "name": "stdout",
     "output_type": "stream",
     "text": [
      "Help on function argmax in module tensorflow.python.ops.math_ops:\n",
      "\n",
      "argmax(input, axis=None, name=None, dimension=None)\n",
      "    Returns the index with the largest value across axiss of a tensor.\n",
      "    \n",
      "    Args:\n",
      "      input: A `Tensor`. Must be one of the following types: `float32`, `float64`, `int64`, `int32`, `uint8`, `uint16`, `int16`, `int8`, `complex64`, `complex128`, `qint8`, `quint8`, `qint32`, `half`.\n",
      "      axis: A `Tensor`. Must be one of the following types: `int32`, `int64`.\n",
      "        int32, 0 <= axis < rank(input).  Describes which axis\n",
      "        of the input Tensor to reduce across. For vectors, use axis = 0.\n",
      "      name: A name for the operation (optional).\n",
      "    \n",
      "    Returns:\n",
      "      A `Tensor` of type `int64`.\n",
      "\n"
     ]
    }
   ],
   "source": [
    "help(tf.argmax)"
   ]
  },
  {
   "cell_type": "code",
   "execution_count": 5,
   "metadata": {
    "collapsed": false,
    "deletable": true,
    "editable": true
   },
   "outputs": [
    {
     "name": "stdout",
     "output_type": "stream",
     "text": [
      "[[ 0.114  0.204  0.222]\n",
      " [ 0.168  0.168  0.144]]\n",
      "[ 0.282  0.372  0.366]\n"
     ]
    }
   ],
   "source": [
    "a=np.matmul(np.multiply(p0,T),E)\n",
    "print(a)\n",
    "print(a.sum(axis=0))"
   ]
  },
  {
   "cell_type": "code",
   "execution_count": 6,
   "metadata": {
    "collapsed": false
   },
   "outputs": [
    {
     "name": "stdout",
     "output_type": "stream",
     "text": [
      "1.02\n"
     ]
    }
   ],
   "source": [
    "print(0.282 + 0.372 + 0.366)"
   ]
  },
  {
   "cell_type": "code",
   "execution_count": null,
   "metadata": {
    "collapsed": true
   },
   "outputs": [],
   "source": []
  }
 ],
 "metadata": {
  "kernelspec": {
   "display_name": "Python 3",
   "language": "python",
   "name": "python3"
  },
  "language_info": {
   "codemirror_mode": {
    "name": "ipython",
    "version": 3
   },
   "file_extension": ".py",
   "mimetype": "text/x-python",
   "name": "python",
   "nbconvert_exporter": "python",
   "pygments_lexer": "ipython3",
   "version": "3.6.0"
  }
 },
 "nbformat": 4,
 "nbformat_minor": 2
}
