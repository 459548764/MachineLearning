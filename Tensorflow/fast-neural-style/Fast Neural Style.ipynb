{
 "cells": [
  {
   "cell_type": "code",
   "execution_count": 1,
   "metadata": {
    "collapsed": false,
    "deletable": true,
    "editable": true
   },
   "outputs": [
    {
     "name": "stdout",
     "output_type": "stream",
     "text": [
      "INFO:tensorflow:Image size: 1162x640\n"
     ]
    }
   ],
   "source": [
    "import tensorflow as tf\n",
    "from nets import nets_factory\n",
    "from preprocessing import preprocessing_factory\n",
    "import reader\n",
    "import model\n",
    "import time\n",
    "import os\n",
    "import numpy as np\n",
    "\n",
    "height = 0\n",
    "width = 0\n",
    "with open('./test2.jpg', 'rb') as img:\n",
    "    with tf.Session().as_default() as sess:\n",
    "        #if FLAGS.image_file.lower().endswith('png'):\n",
    "        #    image = sess.run(tf.image.decode_png(img.read()))\n",
    "        #else:\n",
    "        image = sess.run(tf.image.decode_jpeg(img.read()))\n",
    "        height = image.shape[0]\n",
    "        width = image.shape[1]\n",
    "tf.logging.info('Image size: %dx%d' % (width, height))\n",
    "\n"
   ]
  },
  {
   "cell_type": "code",
   "execution_count": 2,
   "metadata": {
    "collapsed": false,
    "deletable": true,
    "editable": true,
    "scrolled": false
   },
   "outputs": [
    {
     "name": "stdout",
     "output_type": "stream",
     "text": [
      "INFO:tensorflow:Elapsed time: 15.299066s\n",
      "INFO:tensorflow:Done. Please check generated/cubic.jpg.\n"
     ]
    }
   ],
   "source": [
    "with tf.Graph().as_default():\n",
    "    with tf.Session().as_default() as sess:\n",
    "        image_preprocessing_fn, _ = preprocessing_factory.get_preprocessing(\n",
    "            'vgg_19',\n",
    "            is_training=False)\n",
    "        image = reader.get_image('./test2.jpg', height, width, image_preprocessing_fn)\n",
    "        image = tf.expand_dims(image, 0)\n",
    "        generated = model.net(image, training=False)\n",
    "        generated = tf.squeeze(generated, [0])\n",
    "        saver = tf.train.Saver(tf.global_variables())\n",
    "        sess.run([tf.global_variables_initializer(), tf.local_variables_initializer()])\n",
    "        #FLAGS.model_file = os.path.abspath(FLAGS.model_file)\n",
    "        saver.restore(sess, './cubist.ckpt-done')\n",
    "\n",
    "        start_time = time.time()\n",
    "        generated = sess.run(generated)\n",
    "        generated = tf.cast(generated, tf.uint8)\n",
    "        end_time = time.time()\n",
    "        tf.logging.info('Elapsed time: %fs' % (end_time - start_time))\n",
    "        generated_file = 'generated/cubic.jpg'\n",
    "        if os.path.exists('generated') is False:\n",
    "            os.makedirs('generated')\n",
    "        with open(generated_file, 'wb') as img:\n",
    "            img.write(sess.run(tf.image.encode_jpeg(generated)))\n",
    "            tf.logging.info('Done. Please check %s.' % generated_file)"
   ]
  },
  {
   "cell_type": "code",
   "execution_count": 3,
   "metadata": {
    "collapsed": false,
    "deletable": true,
    "editable": true
   },
   "outputs": [
    {
     "name": "stdout",
     "output_type": "stream",
     "text": [
      "Help on function split in module tensorflow.python.ops.array_ops:\n",
      "\n",
      "split(value, num_or_size_splits, axis=0, num=None, name='split')\n",
      "    Splits a tensor into sub tensors.\n",
      "    \n",
      "    If `num_or_size_splits` is a scalar, `num_split`, then splits `value` along\n",
      "    dimension `axis` into `num_split` smaller tensors.\n",
      "    Requires that `num_split` evenly divides `value.shape[axis]`.\n",
      "    \n",
      "    If `num_or_size_splits` is a tensor, `size_splits`, then splits `value` into\n",
      "    `len(size_splits)` pieces. The shape of the `i`-th piece has the same size as\n",
      "    the `value` except along dimension `axis` where the size is `size_splits[i]`.\n",
      "    \n",
      "    For example:\n",
      "    \n",
      "    ```python\n",
      "    # 'value' is a tensor with shape [5, 30]\n",
      "    # Split 'value' into 3 tensors with sizes [4, 15, 11] along dimension 1\n",
      "    split0, split1, split2 = tf.split(value, [4, 15, 11], 1)\n",
      "    tf.shape(split0) ==> [5, 4]\n",
      "    tf.shape(split1) ==> [5, 15]\n",
      "    tf.shape(split2) ==> [5, 11]\n",
      "    # Split 'value' into 3 tensors along dimension 1\n",
      "    split0, split1, split2 = tf.split(value, num_or_size_splits=3, axis=1)\n",
      "    tf.shape(split0) ==> [5, 10]\n",
      "    ```\n",
      "    \n",
      "    Args:\n",
      "      value: The `Tensor` to split.\n",
      "      num_or_size_splits: Either an integer indicating the number of splits along\n",
      "        split_dim or a 1-D Tensor containing the sizes of each output tensor\n",
      "        along split_dim. If an integer then it must evenly divide\n",
      "        `value.shape[axis]`; otherwise the sum of sizes along the split\n",
      "        dimension must match that of the `value`.\n",
      "      axis: A 0-D `int32` `Tensor`. The dimension along which to split.\n",
      "        Must be in the range `[0, rank(value))`. Defaults to 0.\n",
      "      num: Optional, used to specify the number of outputs when it cannot be\n",
      "        inferred from the shape of `size_splits`.\n",
      "      name: A name for the operation (optional).\n",
      "    \n",
      "    Returns:\n",
      "      if `num_or_size_splits` is a scalar returns `num_or_size_splits` `Tensor`\n",
      "      objects; if `num_or_size_splits` is a 1-D Tensor returns\n",
      "      `num_or_size_splits.get_shape[0]` `Tensor` objects resulting from splitting\n",
      "      `value`.\n",
      "    \n",
      "    Raises:\n",
      "      ValueError: If `num` is unspecified and cannot be inferred.\n",
      "\n"
     ]
    }
   ],
   "source": [
    "help(tf.split)"
   ]
  },
  {
   "cell_type": "code",
   "execution_count": null,
   "metadata": {
    "collapsed": true,
    "deletable": true,
    "editable": true
   },
   "outputs": [],
   "source": []
  }
 ],
 "metadata": {
  "kernelspec": {
   "display_name": "Python 3",
   "language": "python",
   "name": "python3"
  },
  "language_info": {
   "codemirror_mode": {
    "name": "ipython",
    "version": 3
   },
   "file_extension": ".py",
   "mimetype": "text/x-python",
   "name": "python",
   "nbconvert_exporter": "python",
   "pygments_lexer": "ipython3",
   "version": "3.6.0"
  }
 },
 "nbformat": 4,
 "nbformat_minor": 2
}
