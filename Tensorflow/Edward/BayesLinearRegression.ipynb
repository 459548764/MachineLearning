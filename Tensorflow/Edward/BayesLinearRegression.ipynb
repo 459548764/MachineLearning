{
 "cells": [
  {
   "cell_type": "code",
   "execution_count": 1,
   "metadata": {
    "collapsed": false
   },
   "outputs": [
    {
     "data": {
      "text/plain": [
       "<matplotlib.collections.PathCollection at 0x10b93b4a8>"
      ]
     },
     "execution_count": 1,
     "metadata": {},
     "output_type": "execute_result"
    },
    {
     "data": {
      "image/png": "[encoded data removed]",
      "text/plain": [
       "<matplotlib.figure.Figure at 0x10b80b908>"
      ]
     },
     "metadata": {},
     "output_type": "display_data"
    }
   ],
   "source": [
    "%matplotlib inline\n",
    "import numpy as np\n",
    "from matplotlib import pyplot as plt\n",
    "\n",
    "x_train = np.linspace(-5, 5, num=50)\n",
    "y_train = np.cos(x_train) + np.random.normal(0, 0.1, size=50)\n",
    "x_train = x_train.astype(np.float32).reshape((50, 1))\n",
    "y_train = y_train.astype(np.float32).reshape((50, 1))\n",
    "plt.scatter(x_train,y_train)"
   ]
  },
  {
   "cell_type": "code",
   "execution_count": 2,
   "metadata": {
    "collapsed": false
   },
   "outputs": [
    {
     "name": "stdout",
     "output_type": "stream",
     "text": [
      "(50, 1)\n",
      "Iteration    1 [  0%]: Loss = 2156.964\n",
      "Iteration  100 [ 10%]: Loss = 240.944\n",
      "Iteration  200 [ 20%]: Loss = 260.104\n",
      "Iteration  300 [ 30%]: Loss = 232.815\n",
      "Iteration  400 [ 40%]: Loss = 235.747\n",
      "Iteration  500 [ 50%]: Loss = 227.619\n",
      "Iteration  600 [ 60%]: Loss = 227.307\n",
      "Iteration  700 [ 70%]: Loss = 226.428\n",
      "Iteration  800 [ 80%]: Loss = 226.975\n",
      "Iteration  900 [ 90%]: Loss = 227.117\n",
      "Iteration 1000 [100%]: Loss = 227.475\n"
     ]
    }
   ],
   "source": [
    "import tensorflow as tf\n",
    "from edward.models import Normal\n",
    "import edward as ed\n",
    "ed.set_seed(42)\n",
    "sess = ed.get_session()\n",
    "tf.global_variables_initializer().run()\n",
    "\n",
    "W_0 = Normal(mu=tf.zeros([1, 2]), sigma=tf.ones([1, 2]))\n",
    "W_1 = Normal(mu=tf.zeros([2, 1]), sigma=tf.ones([2, 1]))\n",
    "b_0 = Normal(mu=tf.zeros(2), sigma=tf.ones(2))\n",
    "b_1 = Normal(mu=tf.zeros(1), sigma=tf.ones(1))\n",
    "\n",
    "x = x_train\n",
    "y = Normal(mu=tf.matmul(tf.tanh(tf.matmul(x, W_0) + b_0), W_1) + b_1,\n",
    "           sigma=0.1)\n",
    "print(y.get_shape())\n",
    "\n",
    "qW_0 = Normal(mu=tf.Variable(tf.zeros([1, 2])),\n",
    "              sigma=tf.nn.softplus(tf.Variable(tf.zeros([1, 2]))))\n",
    "qW_1 = Normal(mu=tf.Variable(tf.zeros([2, 1])),\n",
    "              sigma=tf.nn.softplus(tf.Variable(tf.zeros([2, 1]))))\n",
    "qb_0 = Normal(mu=tf.Variable(tf.zeros(2)),\n",
    "              sigma=tf.nn.softplus(tf.Variable(tf.zeros(2))))\n",
    "qb_1 = Normal(mu=tf.Variable(tf.zeros(1)),\n",
    "              sigma=tf.nn.softplus(tf.Variable(tf.zeros(1))))\n",
    "\n",
    "\n",
    "\n",
    "inference = ed.KLqp({W_0: qW_0, b_0: qb_0,\n",
    "                     W_1: qW_1, b_1: qb_1}, data={y: y_train})\n",
    "inference.run(n_iter=1000, n_samples=5)"
   ]
  },
  {
   "cell_type": "code",
   "execution_count": 3,
   "metadata": {
    "collapsed": false
   },
   "outputs": [
    {
     "data": {
      "text/plain": [
       "[<matplotlib.lines.Line2D at 0x10b98f5f8>]"
      ]
     },
     "execution_count": 3,
     "metadata": {},
     "output_type": "execute_result"
    },
    {
     "data": {
      "image/png": "[encoded data removed]",
      "text/plain": [
       "<matplotlib.figure.Figure at 0x118c5dc88>"
      ]
     },
     "metadata": {},
     "output_type": "display_data"
    }
   ],
   "source": [
    "def neural_network(x, W_0, W_1, b_0, b_1):\n",
    "    h = tf.tanh(tf.matmul(x, W_0) + b_0)\n",
    "    h = tf.matmul(h, W_1) + b_1\n",
    "    return tf.reshape(h, [-1])\n",
    "\n",
    "inputs = np.linspace(-5, 5, num=400, dtype=np.float32)\n",
    "x = tf.expand_dims(tf.constant(inputs), 1)\n",
    "mus = neural_network(x, qW_0.sample(), qW_1.sample(),\n",
    "                         qb_0.sample(), qb_1.sample())\n",
    "\n",
    "\n",
    "outputs = mus.eval()\n",
    "plt.plot(x_train, y_train, 'ks', alpha=0.5, label='(x, y)')\n",
    "plt.plot(inputs, outputs.T, 'r', lw=2, alpha=0.5, label='posterior draws')"
   ]
  },
  {
   "cell_type": "code",
   "execution_count": null,
   "metadata": {
    "collapsed": true
   },
   "outputs": [],
   "source": []
  }
 ],
 "metadata": {
  "kernelspec": {
   "display_name": "Python 3",
   "language": "python",
   "name": "python3"
  },
  "language_info": {
   "codemirror_mode": {
    "name": "ipython",
    "version": 3
   },
   "file_extension": ".py",
   "mimetype": "text/x-python",
   "name": "python",
   "nbconvert_exporter": "python",
   "pygments_lexer": "ipython3",
   "version": "3.6.0"
  }
 },
 "nbformat": 4,
 "nbformat_minor": 2
}
